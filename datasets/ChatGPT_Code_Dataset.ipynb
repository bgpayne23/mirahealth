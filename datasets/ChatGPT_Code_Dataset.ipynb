{
 "cells": [
  {
   "cell_type": "code",
   "execution_count": 1,
   "id": "d99d2db1",
   "metadata": {},
   "outputs": [],
   "source": [
    "import csv\n",
    "import random"
   ]
  },
  {
   "cell_type": "code",
   "execution_count": 2,
   "id": "dd677253",
   "metadata": {},
   "outputs": [],
   "source": [
    "# Create a list to store the generated patient data\n",
    "patient_data = []"
   ]
  },
  {
   "cell_type": "code",
   "execution_count": 3,
   "id": "938fad10",
   "metadata": {},
   "outputs": [],
   "source": [
    "# Generate patient data\n",
    "for patient_id in range(1, 1001):\n",
    "    hypertension = \"Yes\" if random.random() < 0.16 else \"No\"\n",
    "    \n",
    "    if hypertension == \"Yes\":\n",
    "        age_ranges = [\n",
    "            (12, 24, 0.139),\n",
    "            (25, 29, 0.135),\n",
    "            (30, 34, 0.143),\n",
    "            (35, 44, 0.18),\n",
    "            (45, 55, 0.31)\n",
    "        ]\n",
    "        age_range = random.choices(\n",
    "            age_ranges,\n",
    "            weights=[weight for _, _, weight in age_ranges]\n",
    "        )[0]\n",
    "        age = random.randint(age_range[0], age_range[1])\n",
    "    else:\n",
    "        age = random.randint(12, 55)\n",
    "    \n",
    "    race = random.choices(\n",
    "        [\n",
    "            \"Asian or Pacific Islander\",\n",
    "            \"Black\",\n",
    "            \"Hispanic\",\n",
    "            \"American Indian and Alaska Native\",\n",
    "            \"Another Race\",\n",
    "            \"White\",\n",
    "            \"Missing\",\n",
    "        ],\n",
    "        weights=[0.093, 0.209, 0.125, 0.164, 0.12, 0.147, 0.127],\n",
    "    )[0]\n",
    "    \n",
    "    payer = random.choices(\n",
    "        [\n",
    "            \"Public\",\n",
    "            \"Private\",\n",
    "            \"Uninsured\"\n",
    "        ],\n",
    "        weights=[0.148, 0.148, 0.119],\n",
    "    )[0]\n",
    "    \n",
    "    rurality = random.choices(\n",
    "        [\n",
    "            \"Metropolitan\",\n",
    "            \"Micropolitan\",\n",
    "            \"Rural\"\n",
    "        ],\n",
    "        weights=[0.146, 0.148, 0.155],\n",
    "    )[0]\n",
    "    \n",
    "    income = random.choices(\n",
    "        [\n",
    "            \"Q1\",\n",
    "            \"Q2\",\n",
    "            \"Q3\",\n",
    "            \"Q4\"\n",
    "        ],\n",
    "        weights=[0.164, 0.147, 0.144, 0.127],\n",
    "    )[0]\n",
    "    \n",
    "    hosp_region = random.choices(\n",
    "        [\n",
    "            \"Northeast\",\n",
    "            \"Midwest\",\n",
    "            \"South\",\n",
    "            \"West\"\n",
    "        ],\n",
    "        weights=[0.139, 0.150, 0.159, 0.127],\n",
    "    )[0]\n",
    "    \n",
    "    patient_data.append([patient_id, age, race, payer, rurality, income, hosp_region, hypertension])"
   ]
  },
  {
   "cell_type": "code",
   "execution_count": 4,
   "id": "f00775b0",
   "metadata": {},
   "outputs": [
    {
     "name": "stdout",
     "output_type": "stream",
     "text": [
      "CSV file 'chatgpt_patient_data.csv' generated successfully.\n"
     ]
    }
   ],
   "source": [
    "# Write the patient data to a CSV file\n",
    "with open(\"chatgpt_patient_data.csv\", \"w\", newline=\"\") as csvfile:\n",
    "    csvwriter = csv.writer(csvfile)\n",
    "    csvwriter.writerow([\"Patient ID\", \"Age\", \"Race\", \"Payer\",\"Rurality\",\"Income\",\"Hospital Region\",\"Hypertension\"])\n",
    "    csvwriter.writerows(patient_data)\n",
    "\n",
    "print(\"CSV file 'chatgpt_patient_data.csv' generated successfully.\")"
   ]
  },
  {
   "cell_type": "code",
   "execution_count": null,
   "id": "78af414b",
   "metadata": {},
   "outputs": [],
   "source": []
  }
 ],
 "metadata": {
  "kernelspec": {
   "display_name": "Python 3 (ipykernel)",
   "language": "python",
   "name": "python3"
  },
  "language_info": {
   "codemirror_mode": {
    "name": "ipython",
    "version": 3
   },
   "file_extension": ".py",
   "mimetype": "text/x-python",
   "name": "python",
   "nbconvert_exporter": "python",
   "pygments_lexer": "ipython3",
   "version": "3.9.13"
  }
 },
 "nbformat": 4,
 "nbformat_minor": 5
}
