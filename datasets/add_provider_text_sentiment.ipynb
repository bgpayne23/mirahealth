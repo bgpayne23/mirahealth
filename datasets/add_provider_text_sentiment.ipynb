{
 "cells": [
  {
   "cell_type": "markdown",
   "id": "4b5236ef",
   "metadata": {},
   "source": [
    "We to add OBGYN test sentiment as an input in the MiraHealth Model.\n",
    "\n",
    "According to this research article, https://doi.org/10.1155/2021/3440778 ,sentiments in nursing notes are associated with the in-hospital 28-day mortality and survival of sepsis patients, suggesting the importance of sentiments in nursing notes for the prediction of clinical outcomes in the ICU.\n",
    "\n",
    "Based on this, I will make up some simple statistics:\n",
    "    \n",
    "    1) 80% of all HDP cases involved OBGYN notes with a negative sentiment.\n",
    "    \n",
    "    2) 80% of all non-HDP cases involved OBGYN notes with a positive sentiment"
   ]
  },
  {
   "cell_type": "markdown",
   "id": "26723f47",
   "metadata": {},
   "source": [
    "I'll use Excel to enter the feature.\n",
    "\n",
    "HDP = 1 for 364 of 2262 records, thus I set 'obgyn_sentiment' = 0(negative) for 291 records (80%). For the rest, obgyn_sentiment is set to 1.\n",
    "\n",
    "\n",
    "HDP = 0 for 1898 of 2262 records, thus I set 'obgyn_sentiment' = 0(negative) for 380 records (20%). For the rest, obgyn_sentiment is set to 1."
   ]
  }
 ],
 "metadata": {
  "kernelspec": {
   "display_name": "Python 3 (ipykernel)",
   "language": "python",
   "name": "python3"
  },
  "language_info": {
   "codemirror_mode": {
    "name": "ipython",
    "version": 3
   },
   "file_extension": ".py",
   "mimetype": "text/x-python",
   "name": "python",
   "nbconvert_exporter": "python",
   "pygments_lexer": "ipython3",
   "version": "3.9.13"
  }
 },
 "nbformat": 4,
 "nbformat_minor": 5
}
